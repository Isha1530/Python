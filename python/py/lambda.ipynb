{
 "cells": [
  {
   "cell_type": "code",
   "execution_count": 1,
   "metadata": {},
   "outputs": [
    {
     "name": "stdout",
     "output_type": "stream",
     "text": [
      "Addition: 15\n",
      "Square: 25\n",
      "Celsius to Fahrenheit: 95.0\n",
      "Sorted list based on second element: [(3, 1), (1, 4), (2, 9)]\n",
      "Even numbers: [2, 4, 6, 8, 10]\n",
      "Complex operation: 120\n"
     ]
    }
   ],
   "source": [
    "# 1. Create a lambda function that adds two numbers.\n",
    "add = lambda x, y: x + y\n",
    "print(\"Addition:\", add(5, 10))  \n",
    "\n",
    "# 2. Create a lambda function that squares a given number.\n",
    "square = lambda x: x ** 2\n",
    "print(\"Square:\", square(5))  \n",
    "\n",
    "# 3. Create a lambda function that converts Celsius to Fahrenheit.\n",
    "celsius_to_fahrenheit = lambda c: (c * 9/5) + 32\n",
    "print(\"Celsius to Fahrenheit:\", celsius_to_fahrenheit(35))  \n",
    "\n",
    "# 4. Create a lambda function used to sort a list of tuples based on the second element.\n",
    "tuples_list = [(1, 4), (2, 9), (3, 1)]\n",
    "sorted_list = sorted(tuples_list, key=lambda x: x[1])\n",
    "print(\"Sorted list based on second element:\", sorted_list)  \n",
    "\n",
    "# 5. Create a lambda function used to filter even numbers from a list.\n",
    "numbers = [1, 2, 3, 4, 5, 6,7,8,9,10]\n",
    "even_numbers = list(filter(lambda x: x % 2 == 0, numbers))\n",
    "print(\"Even numbers:\", even_numbers)  \n",
    "\n",
    "# 6. Create a lambda function that uses another lambda function to perform a complex operation.\n",
    "multiply = lambda x, y: x * y\n",
    "complex_operation = lambda x: multiply(x, x + 2)\n",
    "print(\"Complex operation:\", complex_operation(10))  \n"
   ]
  }
 ],
 "metadata": {
  "kernelspec": {
   "display_name": "Python 3",
   "language": "python",
   "name": "python3"
  },
  "language_info": {
   "codemirror_mode": {
    "name": "ipython",
    "version": 3
   },
   "file_extension": ".py",
   "mimetype": "text/x-python",
   "name": "python",
   "nbconvert_exporter": "python",
   "pygments_lexer": "ipython3",
   "version": "3.13.2"
  }
 },
 "nbformat": 4,
 "nbformat_minor": 2
}
