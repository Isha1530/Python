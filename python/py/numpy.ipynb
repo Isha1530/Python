{
 "cells": [
  {
   "metadata": {},
   "cell_type": "code",
   "outputs": [],
   "execution_count": null,
   "source": "   # ****part 1****",
   "id": "fc1efeadb50fae46"
  },
  {
   "metadata": {
    "collapsed": true,
    "ExecuteTime": {
     "end_time": "2025-03-01T08:57:10.120359Z",
     "start_time": "2025-03-01T08:57:10.108648Z"
    }
   },
   "cell_type": "code",
   "source": "import numpy as np",
   "id": "initial_id",
   "outputs": [],
   "execution_count": 109
  },
  {
   "metadata": {
    "ExecuteTime": {
     "end_time": "2025-03-01T05:56:39.275385Z",
     "start_time": "2025-03-01T05:56:39.269713Z"
    }
   },
   "cell_type": "code",
   "source": [
    "lst = [1,2,3,4,5]\n",
    "print(lst)"
   ],
   "id": "c26fe524e70de050",
   "outputs": [
    {
     "name": "stdout",
     "output_type": "stream",
     "text": [
      "[1, 2, 3, 4, 5]\n"
     ]
    }
   ],
   "execution_count": 5
  },
  {
   "metadata": {
    "ExecuteTime": {
     "end_time": "2025-03-01T08:18:32.750399Z",
     "start_time": "2025-03-01T08:18:32.593717Z"
    }
   },
   "cell_type": "code",
   "source": [
    "print(\"Print array using numpy\")\n",
    "print(\"1D array\")\n",
    "a = np.array([1,2,3,4,5])\n",
    "print(a)\n",
    "\n",
    "print(\"2D array\")\n",
    "b = np.array([[1,2],[3,4],[5,6]])\n",
    "print(b)\n",
    "\n",
    "print(\"3D array\")\n",
    "c = np.array([[[1,2],[3,4],[5,6],[7,8],[9,10],[11,12],[13,14]]])\n",
    "print(c)"
   ],
   "id": "285bd4fcd1e0c0fc",
   "outputs": [
    {
     "name": "stdout",
     "output_type": "stream",
     "text": [
      "Print array using numpy\n",
      "1D array\n",
      "[1 2 3 4 5]\n",
      "2D array\n",
      "[[1 2]\n",
      " [3 4]\n",
      " [5 6]]\n",
      "3D array\n",
      "[[[ 1  2]\n",
      "  [ 3  4]\n",
      "  [ 5  6]\n",
      "  [ 7  8]\n",
      "  [ 9 10]\n",
      "  [11 12]\n",
      "  [13 14]]]\n"
     ]
    }
   ],
   "execution_count": 57
  },
  {
   "metadata": {
    "ExecuteTime": {
     "end_time": "2025-03-01T06:02:48.114414Z",
     "start_time": "2025-03-01T06:02:48.106380Z"
    }
   },
   "cell_type": "code",
   "source": [
    "print(type(c))\n",
    "print(type(b))\n",
    "print(type(a))"
   ],
   "id": "5d735e3c553dd69a",
   "outputs": [
    {
     "name": "stdout",
     "output_type": "stream",
     "text": [
      "<class 'numpy.ndarray'>\n",
      "<class 'numpy.ndarray'>\n",
      "<class 'numpy.ndarray'>\n"
     ]
    }
   ],
   "execution_count": 11
  },
  {
   "metadata": {
    "ExecuteTime": {
     "end_time": "2025-03-01T06:02:50.109243Z",
     "start_time": "2025-03-01T06:02:50.100189Z"
    }
   },
   "cell_type": "code",
   "source": [
    "#number of elements in array\n",
    "print(a.size)\n",
    "print(b.size)\n",
    "print(c.size)"
   ],
   "id": "23bb2c7430f314f5",
   "outputs": [
    {
     "name": "stdout",
     "output_type": "stream",
     "text": [
      "5\n",
      "6\n",
      "14\n"
     ]
    }
   ],
   "execution_count": 12
  },
  {
   "metadata": {
    "ExecuteTime": {
     "end_time": "2025-03-01T06:03:44.196986Z",
     "start_time": "2025-03-01T06:03:44.190565Z"
    }
   },
   "cell_type": "code",
   "source": [
    "#shape(array,rows,cols)\n",
    "print(a.shape)\n",
    "print(b.shape)\n",
    "print(c.shape)"
   ],
   "id": "296d9181166088cb",
   "outputs": [
    {
     "name": "stdout",
     "output_type": "stream",
     "text": [
      "(5,)\n",
      "(3, 2)\n",
      "(1, 7, 2)\n"
     ]
    }
   ],
   "execution_count": 13
  },
  {
   "metadata": {
    "ExecuteTime": {
     "end_time": "2025-03-01T06:09:06.767082Z",
     "start_time": "2025-03-01T06:09:06.758664Z"
    }
   },
   "cell_type": "code",
   "source": [
    "d = np.array([[1,1.1,2,3],[4,4.5,6,7]])\n",
    "print(d.dtype)"
   ],
   "id": "4f1527ac680521e1",
   "outputs": [
    {
     "name": "stdout",
     "output_type": "stream",
     "text": [
      "float64\n"
     ]
    }
   ],
   "execution_count": 16
  },
  {
   "metadata": {
    "ExecuteTime": {
     "end_time": "2025-03-01T06:09:36.315091Z",
     "start_time": "2025-03-01T06:09:36.306643Z"
    }
   },
   "cell_type": "code",
   "source": "print(d.transpose())",
   "id": "62349a671ce89c2a",
   "outputs": [
    {
     "name": "stdout",
     "output_type": "stream",
     "text": [
      "[[1.  4. ]\n",
      " [1.1 4.5]\n",
      " [2.  6. ]\n",
      " [3.  7. ]]\n"
     ]
    }
   ],
   "execution_count": 18
  },
  {
   "metadata": {},
   "cell_type": "code",
   "outputs": [],
   "execution_count": null,
   "source": "        # ****part2****",
   "id": "502d6fafa635ad88"
  },
  {
   "metadata": {
    "ExecuteTime": {
     "end_time": "2025-03-01T06:16:43.992777Z",
     "start_time": "2025-03-01T06:16:43.972717Z"
    }
   },
   "cell_type": "code",
   "source": [
    "# np.empty((rows,column),types)\n",
    "np.empty((4,4),dtype = float)"
   ],
   "id": "149e435d222b0a43",
   "outputs": [
    {
     "data": {
      "text/plain": [
       "array([[2.35541533e-312, 0.00000000e+000, 0.00000000e+000,\n",
       "        0.00000000e+000],\n",
       "       [2.14321575e-312, 0.00000000e+000, 0.00000000e+000,\n",
       "        0.00000000e+000],\n",
       "       [0.00000000e+000, 0.00000000e+000, 0.00000000e+000,\n",
       "        0.00000000e+000],\n",
       "       [0.00000000e+000, 0.00000000e+000, 0.00000000e+000,\n",
       "        0.00000000e+000]])"
      ]
     },
     "execution_count": 21,
     "metadata": {},
     "output_type": "execute_result"
    }
   ],
   "execution_count": 21
  },
  {
   "metadata": {
    "ExecuteTime": {
     "end_time": "2025-03-01T06:18:18.856Z",
     "start_time": "2025-03-01T06:18:18.849421Z"
    }
   },
   "cell_type": "code",
   "source": [
    "# np.ones((row,col),dtype)\n",
    "x=np.ones(5)\n",
    "print(x)"
   ],
   "id": "5a9e29907746ea32",
   "outputs": [
    {
     "name": "stdout",
     "output_type": "stream",
     "text": [
      "[1. 1. 1. 1. 1.]\n"
     ]
    }
   ],
   "execution_count": 23
  },
  {
   "metadata": {
    "ExecuteTime": {
     "end_time": "2025-03-01T06:19:04.503252Z",
     "start_time": "2025-03-01T06:19:04.495029Z"
    }
   },
   "cell_type": "code",
   "source": [
    "y=np.ones((5,9))\n",
    "print(y)"
   ],
   "id": "116941039febce5b",
   "outputs": [
    {
     "name": "stdout",
     "output_type": "stream",
     "text": [
      "[[1. 1. 1. 1. 1. 1. 1. 1. 1.]\n",
      " [1. 1. 1. 1. 1. 1. 1. 1. 1.]\n",
      " [1. 1. 1. 1. 1. 1. 1. 1. 1.]\n",
      " [1. 1. 1. 1. 1. 1. 1. 1. 1.]\n",
      " [1. 1. 1. 1. 1. 1. 1. 1. 1.]]\n"
     ]
    }
   ],
   "execution_count": 25
  },
  {
   "metadata": {
    "ExecuteTime": {
     "end_time": "2025-03-01T06:22:50.320128Z",
     "start_time": "2025-03-01T06:22:50.310536Z"
    }
   },
   "cell_type": "code",
   "source": [
    "z = np.ones((2,2) , dtype = float)\n",
    "print(z)\n",
    "z"
   ],
   "id": "6b71fb70ba6def7",
   "outputs": [
    {
     "name": "stdout",
     "output_type": "stream",
     "text": [
      "[[1. 1.]\n",
      " [1. 1.]]\n"
     ]
    },
    {
     "data": {
      "text/plain": [
       "array([[1., 1.],\n",
       "       [1., 1.]])"
      ]
     },
     "execution_count": 32,
     "metadata": {},
     "output_type": "execute_result"
    }
   ],
   "execution_count": 32
  },
  {
   "metadata": {
    "ExecuteTime": {
     "end_time": "2025-03-01T06:22:39.609270Z",
     "start_time": "2025-03-01T06:22:39.602584Z"
    }
   },
   "cell_type": "code",
   "source": [
    "# np.zeros((row,col),dtype)\n",
    "x=np.zeros(2)\n",
    "x"
   ],
   "id": "34c87a0b504c33fb",
   "outputs": [
    {
     "data": {
      "text/plain": [
       "array([0., 0.])"
      ]
     },
     "execution_count": 31,
     "metadata": {},
     "output_type": "execute_result"
    }
   ],
   "execution_count": 31
  },
  {
   "metadata": {
    "ExecuteTime": {
     "end_time": "2025-03-01T06:23:15.426004Z",
     "start_time": "2025-03-01T06:23:15.415555Z"
    }
   },
   "cell_type": "code",
   "source": [
    "y = np.ones((2,2))\n",
    "y"
   ],
   "id": "cb9b7985509439fa",
   "outputs": [
    {
     "data": {
      "text/plain": [
       "array([[1., 1.],\n",
       "       [1., 1.]])"
      ]
     },
     "execution_count": 33,
     "metadata": {},
     "output_type": "execute_result"
    }
   ],
   "execution_count": 33
  },
  {
   "metadata": {
    "ExecuteTime": {
     "end_time": "2025-03-01T06:23:48.997934Z",
     "start_time": "2025-03-01T06:23:48.988766Z"
    }
   },
   "cell_type": "code",
   "source": [
    "z=np.ones((2,2), dtype = int)\n",
    "z"
   ],
   "id": "11403c9c6a1b42c9",
   "outputs": [
    {
     "data": {
      "text/plain": [
       "array([[1, 1],\n",
       "       [1, 1]])"
      ]
     },
     "execution_count": 35,
     "metadata": {},
     "output_type": "execute_result"
    }
   ],
   "execution_count": 35
  },
  {
   "metadata": {
    "ExecuteTime": {
     "end_time": "2025-03-01T06:25:11.497461Z",
     "start_time": "2025-03-01T06:25:11.491752Z"
    }
   },
   "cell_type": "code",
   "source": [
    "z = np.ones((2,2), dtype = str)\n",
    "print(z)"
   ],
   "id": "6fb1ac600247d1c9",
   "outputs": [
    {
     "name": "stdout",
     "output_type": "stream",
     "text": [
      "[['1' '1']\n",
      " ['1' '1']]\n"
     ]
    }
   ],
   "execution_count": 38
  },
  {
   "metadata": {
    "ExecuteTime": {
     "end_time": "2025-03-01T06:26:17.623490Z",
     "start_time": "2025-03-01T06:26:17.616149Z"
    }
   },
   "cell_type": "code",
   "source": [
    "z = np.ones((2,2), dtype = bool)\n",
    "print(z)\n",
    "x = np.zeros((2,2),dtype = bool)\n",
    "print(x)\n"
   ],
   "id": "5234f8cff006128c",
   "outputs": [
    {
     "name": "stdout",
     "output_type": "stream",
     "text": [
      "[[ True  True]\n",
      " [ True  True]]\n",
      "[[False False]\n",
      " [False False]]\n"
     ]
    }
   ],
   "execution_count": 39
  },
  {
   "metadata": {},
   "cell_type": "code",
   "outputs": [],
   "execution_count": null,
   "source": "# *****Part3*****",
   "id": "ad3b8996c97480d9"
  },
  {
   "metadata": {
    "ExecuteTime": {
     "end_time": "2025-03-01T06:28:08.351437Z",
     "start_time": "2025-03-01T06:28:08.340396Z"
    }
   },
   "cell_type": "code",
   "source": [
    "#np.arange(start,end,step)\n",
    "\n",
    "a=np.arange(1,10)\n",
    "print(a)"
   ],
   "id": "cc9c9e30e306df94",
   "outputs": [
    {
     "name": "stdout",
     "output_type": "stream",
     "text": [
      "[1 2 3 4 5 6 7 8 9]\n"
     ]
    }
   ],
   "execution_count": 40
  },
  {
   "metadata": {
    "ExecuteTime": {
     "end_time": "2025-03-01T06:28:43.328010Z",
     "start_time": "2025-03-01T06:28:43.319317Z"
    }
   },
   "cell_type": "code",
   "source": [
    "a=np.arange(1,10,2)\n",
    "print(a)"
   ],
   "id": "351a37b9e40f4840",
   "outputs": [
    {
     "name": "stdout",
     "output_type": "stream",
     "text": [
      "[1 3 5 7 9]\n"
     ]
    }
   ],
   "execution_count": 41
  },
  {
   "metadata": {
    "ExecuteTime": {
     "end_time": "2025-03-01T06:33:01.436819Z",
     "start_time": "2025-03-01T06:33:01.429153Z"
    }
   },
   "cell_type": "code",
   "source": [
    "a=np.arange(2,20,2)\n",
    "print(a)"
   ],
   "id": "7b10c6934b6e1640",
   "outputs": [
    {
     "name": "stdout",
     "output_type": "stream",
     "text": [
      "[ 2  4  6  8 10 12 14 16 18]\n"
     ]
    }
   ],
   "execution_count": 46
  },
  {
   "metadata": {
    "ExecuteTime": {
     "end_time": "2025-03-01T06:33:14.445585Z",
     "start_time": "2025-03-01T06:33:14.434604Z"
    }
   },
   "cell_type": "code",
   "source": [
    "#arr.reshape((row,col))\n",
    "\n",
    "a = a.reshape((3,3))\n",
    "print(a)"
   ],
   "id": "e0bd453acc9a2c6c",
   "outputs": [
    {
     "name": "stdout",
     "output_type": "stream",
     "text": [
      "[[ 2  4  6]\n",
      " [ 8 10 12]\n",
      " [14 16 18]]\n"
     ]
    }
   ],
   "execution_count": 47
  },
  {
   "metadata": {
    "ExecuteTime": {
     "end_time": "2025-03-01T06:33:56.178033Z",
     "start_time": "2025-03-01T06:33:56.168112Z"
    }
   },
   "cell_type": "code",
   "source": [
    "b= np.arange(1,100,2)\n",
    "print(b)"
   ],
   "id": "adcadc420e448e0d",
   "outputs": [
    {
     "name": "stdout",
     "output_type": "stream",
     "text": [
      "[ 1  3  5  7  9 11 13 15 17 19 21 23 25 27 29 31 33 35 37 39 41 43 45 47\n",
      " 49 51 53 55 57 59 61 63 65 67 69 71 73 75 77 79 81 83 85 87 89 91 93 95\n",
      " 97 99]\n"
     ]
    }
   ],
   "execution_count": 48
  },
  {
   "metadata": {
    "ExecuteTime": {
     "end_time": "2025-03-01T06:34:37.984927Z",
     "start_time": "2025-03-01T06:34:37.975501Z"
    }
   },
   "cell_type": "code",
   "source": [
    "b = b.reshape((10,5))\n",
    "print(b)"
   ],
   "id": "8287ce5463cbf110",
   "outputs": [
    {
     "name": "stdout",
     "output_type": "stream",
     "text": [
      "[[ 1  3  5  7  9]\n",
      " [11 13 15 17 19]\n",
      " [21 23 25 27 29]\n",
      " [31 33 35 37 39]\n",
      " [41 43 45 47 49]\n",
      " [51 53 55 57 59]\n",
      " [61 63 65 67 69]\n",
      " [71 73 75 77 79]\n",
      " [81 83 85 87 89]\n",
      " [91 93 95 97 99]]\n"
     ]
    }
   ],
   "execution_count": 51
  },
  {
   "metadata": {
    "ExecuteTime": {
     "end_time": "2025-03-01T06:35:09.891980Z",
     "start_time": "2025-03-01T06:35:09.882319Z"
    }
   },
   "cell_type": "code",
   "source": [
    "b = b.flatten()\n",
    "print(b)"
   ],
   "id": "967306d97eb8879f",
   "outputs": [
    {
     "name": "stdout",
     "output_type": "stream",
     "text": [
      "[ 1  3  5  7  9 11 13 15 17 19 21 23 25 27 29 31 33 35 37 39 41 43 45 47\n",
      " 49 51 53 55 57 59 61 63 65 67 69 71 73 75 77 79 81 83 85 87 89 91 93 95\n",
      " 97 99]\n"
     ]
    }
   ],
   "execution_count": 52
  },
  {
   "metadata": {
    "ExecuteTime": {
     "end_time": "2025-03-01T08:22:14.099662Z",
     "start_time": "2025-03-01T08:22:14.083653Z"
    }
   },
   "cell_type": "code",
   "source": [
    "a = a.ravel()\n",
    "print(a)"
   ],
   "id": "94f7912e830a1f94",
   "outputs": [
    {
     "name": "stdout",
     "output_type": "stream",
     "text": [
      "[1 2 3 4 5]\n"
     ]
    }
   ],
   "execution_count": 58
  },
  {
   "metadata": {},
   "cell_type": "code",
   "outputs": [],
   "execution_count": null,
   "source": [
    "#a.ravel() =\n",
    "#1)return only reference/view of original array\n",
    "#2) if you modify the array you would notice that the value of original array also changes\n",
    "#3) ravel is faster than flatten() as it does nt occupy any memory.\n",
    "#4) ravel is a library-level function\n",
    "\n",
    "#a.flatten() :\n",
    "#1) return copy of original array\n",
    "#2) if you modify any value of this array value of original array is not affected\n",
    "#3) flatten() is comparatively slower than ravel() as it occupies memory\n",
    "#4) flatten is a method of an ndarray object"
   ],
   "id": "c56dac2d6cea64ec"
  },
  {
   "metadata": {},
   "cell_type": "code",
   "outputs": [],
   "execution_count": null,
   "source": "#************part4**********",
   "id": "e5983bd62eac66b5"
  },
  {
   "metadata": {
    "ExecuteTime": {
     "end_time": "2025-03-01T08:25:03.380404Z",
     "start_time": "2025-03-01T08:25:03.368536Z"
    }
   },
   "cell_type": "code",
   "source": [
    "a = np.arange(1,10)\n",
    "a = np.reshape(a,(3,3))\n",
    "print(a)"
   ],
   "id": "be65dd448c16e490",
   "outputs": [
    {
     "name": "stdout",
     "output_type": "stream",
     "text": [
      "[[1 2 3]\n",
      " [4 5 6]\n",
      " [7 8 9]]\n"
     ]
    }
   ],
   "execution_count": 62
  },
  {
   "metadata": {
    "ExecuteTime": {
     "end_time": "2025-03-01T08:26:07.718929Z",
     "start_time": "2025-03-01T08:26:07.701453Z"
    }
   },
   "cell_type": "code",
   "source": "a[0]",
   "id": "9caea77d9233f99",
   "outputs": [
    {
     "data": {
      "text/plain": [
       "array([1, 2, 3])"
      ]
     },
     "execution_count": 63,
     "metadata": {},
     "output_type": "execute_result"
    }
   ],
   "execution_count": 63
  },
  {
   "metadata": {
    "ExecuteTime": {
     "end_time": "2025-03-01T08:26:30.996073Z",
     "start_time": "2025-03-01T08:26:30.984755Z"
    }
   },
   "cell_type": "code",
   "source": "a[0,0]",
   "id": "ac94111e017f2cd",
   "outputs": [
    {
     "data": {
      "text/plain": [
       "np.int64(1)"
      ]
     },
     "execution_count": 64,
     "metadata": {},
     "output_type": "execute_result"
    }
   ],
   "execution_count": 64
  },
  {
   "metadata": {
    "ExecuteTime": {
     "end_time": "2025-03-01T08:27:53.306423Z",
     "start_time": "2025-03-01T08:27:53.296663Z"
    }
   },
   "cell_type": "code",
   "source": "a[1:3]",
   "id": "8e908eec857f034",
   "outputs": [
    {
     "data": {
      "text/plain": [
       "array([[4, 5, 6],\n",
       "       [7, 8, 9]])"
      ]
     },
     "execution_count": 66,
     "metadata": {},
     "output_type": "execute_result"
    }
   ],
   "execution_count": 66
  },
  {
   "metadata": {
    "ExecuteTime": {
     "end_time": "2025-03-01T08:29:37.688069Z",
     "start_time": "2025-03-01T08:29:37.676399Z"
    }
   },
   "cell_type": "code",
   "source": "a[: , 1]",
   "id": "42dcff0891b710b6",
   "outputs": [
    {
     "data": {
      "text/plain": [
       "array([2, 5, 8])"
      ]
     },
     "execution_count": 69,
     "metadata": {},
     "output_type": "execute_result"
    }
   ],
   "execution_count": 69
  },
  {
   "metadata": {
    "ExecuteTime": {
     "end_time": "2025-03-01T08:30:20.089193Z",
     "start_time": "2025-03-01T08:30:20.078186Z"
    }
   },
   "cell_type": "code",
   "source": "a[1:2,2]",
   "id": "63fdc6291be5c26e",
   "outputs": [
    {
     "data": {
      "text/plain": [
       "array([6])"
      ]
     },
     "execution_count": 70,
     "metadata": {},
     "output_type": "execute_result"
    }
   ],
   "execution_count": 70
  },
  {
   "metadata": {
    "ExecuteTime": {
     "end_time": "2025-03-01T08:31:12.359868Z",
     "start_time": "2025-03-01T08:31:12.346909Z"
    }
   },
   "cell_type": "code",
   "source": "a[:,:]",
   "id": "ad6c78b70a51efd",
   "outputs": [
    {
     "data": {
      "text/plain": [
       "array([[1, 2, 3],\n",
       "       [4, 5, 6],\n",
       "       [7, 8, 9]])"
      ]
     },
     "execution_count": 71,
     "metadata": {},
     "output_type": "execute_result"
    }
   ],
   "execution_count": 71
  },
  {
   "metadata": {
    "ExecuteTime": {
     "end_time": "2025-03-01T08:31:46.267208Z",
     "start_time": "2025-03-01T08:31:46.253963Z"
    }
   },
   "cell_type": "code",
   "source": "a[: , 0:2]",
   "id": "90a768a33264af6",
   "outputs": [
    {
     "data": {
      "text/plain": [
       "array([[1, 2],\n",
       "       [4, 5],\n",
       "       [7, 8]])"
      ]
     },
     "execution_count": 72,
     "metadata": {},
     "output_type": "execute_result"
    }
   ],
   "execution_count": 72
  },
  {
   "metadata": {
    "ExecuteTime": {
     "end_time": "2025-03-01T08:32:25.432843Z",
     "start_time": "2025-03-01T08:32:25.420123Z"
    }
   },
   "cell_type": "code",
   "source": "a[:,0:2].dtype",
   "id": "84964ad924415358",
   "outputs": [
    {
     "data": {
      "text/plain": [
       "dtype('int64')"
      ]
     },
     "execution_count": 73,
     "metadata": {},
     "output_type": "execute_result"
    }
   ],
   "execution_count": 73
  },
  {
   "metadata": {},
   "cell_type": "code",
   "outputs": [],
   "execution_count": null,
   "source": "#**********part5**********",
   "id": "1b4f53a43875f1ca"
  },
  {
   "metadata": {
    "ExecuteTime": {
     "end_time": "2025-03-01T08:35:28.078280Z",
     "start_time": "2025-03-01T08:35:28.054779Z"
    }
   },
   "cell_type": "code",
   "source": [
    "a = np.arange(0,18).reshape((6,3))\n",
    "b = np.arange(20,38).reshape((6,3))\n",
    "print(a)\n",
    "print(b)"
   ],
   "id": "d336c32f4d0a6452",
   "outputs": [
    {
     "name": "stdout",
     "output_type": "stream",
     "text": [
      "[[ 0  1  2]\n",
      " [ 3  4  5]\n",
      " [ 6  7  8]\n",
      " [ 9 10 11]\n",
      " [12 13 14]\n",
      " [15 16 17]]\n",
      "[[20 21 22]\n",
      " [23 24 25]\n",
      " [26 27 28]\n",
      " [29 30 31]\n",
      " [32 33 34]\n",
      " [35 36 37]]\n"
     ]
    }
   ],
   "execution_count": 77
  },
  {
   "metadata": {
    "ExecuteTime": {
     "end_time": "2025-03-01T08:35:50.426230Z",
     "start_time": "2025-03-01T08:35:50.407302Z"
    }
   },
   "cell_type": "code",
   "source": "a+b",
   "id": "47132f7fc3d23796",
   "outputs": [
    {
     "data": {
      "text/plain": [
       "array([[20, 22, 24],\n",
       "       [26, 28, 30],\n",
       "       [32, 34, 36],\n",
       "       [38, 40, 42],\n",
       "       [44, 46, 48],\n",
       "       [50, 52, 54]])"
      ]
     },
     "execution_count": 78,
     "metadata": {},
     "output_type": "execute_result"
    }
   ],
   "execution_count": 78
  },
  {
   "metadata": {
    "ExecuteTime": {
     "end_time": "2025-03-01T08:36:18.570220Z",
     "start_time": "2025-03-01T08:36:18.559462Z"
    }
   },
   "cell_type": "code",
   "source": "np.add(a,b)",
   "id": "a946ef1ef52f8022",
   "outputs": [
    {
     "data": {
      "text/plain": [
       "array([[20, 22, 24],\n",
       "       [26, 28, 30],\n",
       "       [32, 34, 36],\n",
       "       [38, 40, 42],\n",
       "       [44, 46, 48],\n",
       "       [50, 52, 54]])"
      ]
     },
     "execution_count": 79,
     "metadata": {},
     "output_type": "execute_result"
    }
   ],
   "execution_count": 79
  },
  {
   "metadata": {
    "ExecuteTime": {
     "end_time": "2025-03-01T08:36:31.417100Z",
     "start_time": "2025-03-01T08:36:31.397329Z"
    }
   },
   "cell_type": "code",
   "source": "a-b",
   "id": "fc55ef93b24b608f",
   "outputs": [
    {
     "data": {
      "text/plain": [
       "array([[-20, -20, -20],\n",
       "       [-20, -20, -20],\n",
       "       [-20, -20, -20],\n",
       "       [-20, -20, -20],\n",
       "       [-20, -20, -20],\n",
       "       [-20, -20, -20]])"
      ]
     },
     "execution_count": 80,
     "metadata": {},
     "output_type": "execute_result"
    }
   ],
   "execution_count": 80
  },
  {
   "metadata": {
    "ExecuteTime": {
     "end_time": "2025-03-01T08:36:49.053777Z",
     "start_time": "2025-03-01T08:36:49.040615Z"
    }
   },
   "cell_type": "code",
   "source": "np.subtract(a,b)",
   "id": "28215035e536557b",
   "outputs": [
    {
     "data": {
      "text/plain": [
       "array([[-20, -20, -20],\n",
       "       [-20, -20, -20],\n",
       "       [-20, -20, -20],\n",
       "       [-20, -20, -20],\n",
       "       [-20, -20, -20],\n",
       "       [-20, -20, -20]])"
      ]
     },
     "execution_count": 81,
     "metadata": {},
     "output_type": "execute_result"
    }
   ],
   "execution_count": 81
  },
  {
   "metadata": {
    "ExecuteTime": {
     "end_time": "2025-03-01T08:37:04.200493Z",
     "start_time": "2025-03-01T08:37:04.184473Z"
    }
   },
   "cell_type": "code",
   "source": "a*b",
   "id": "a97ac3abd821da34",
   "outputs": [
    {
     "data": {
      "text/plain": [
       "array([[  0,  21,  44],\n",
       "       [ 69,  96, 125],\n",
       "       [156, 189, 224],\n",
       "       [261, 300, 341],\n",
       "       [384, 429, 476],\n",
       "       [525, 576, 629]])"
      ]
     },
     "execution_count": 82,
     "metadata": {},
     "output_type": "execute_result"
    }
   ],
   "execution_count": 82
  },
  {
   "metadata": {
    "ExecuteTime": {
     "end_time": "2025-03-01T08:37:34.603603Z",
     "start_time": "2025-03-01T08:37:34.593919Z"
    }
   },
   "cell_type": "code",
   "source": "np.multiply(a,b)",
   "id": "995efdca515abf6b",
   "outputs": [
    {
     "data": {
      "text/plain": [
       "array([[  0,  21,  44],\n",
       "       [ 69,  96, 125],\n",
       "       [156, 189, 224],\n",
       "       [261, 300, 341],\n",
       "       [384, 429, 476],\n",
       "       [525, 576, 629]])"
      ]
     },
     "execution_count": 83,
     "metadata": {},
     "output_type": "execute_result"
    }
   ],
   "execution_count": 83
  },
  {
   "metadata": {
    "ExecuteTime": {
     "end_time": "2025-03-01T08:38:29.504382Z",
     "start_time": "2025-03-01T08:38:29.482264Z"
    }
   },
   "cell_type": "code",
   "source": "a/b",
   "id": "70811c9fa4c38c78",
   "outputs": [
    {
     "data": {
      "text/plain": [
       "array([[0.        , 0.04761905, 0.09090909],\n",
       "       [0.13043478, 0.16666667, 0.2       ],\n",
       "       [0.23076923, 0.25925926, 0.28571429],\n",
       "       [0.31034483, 0.33333333, 0.35483871],\n",
       "       [0.375     , 0.39393939, 0.41176471],\n",
       "       [0.42857143, 0.44444444, 0.45945946]])"
      ]
     },
     "execution_count": 84,
     "metadata": {},
     "output_type": "execute_result"
    }
   ],
   "execution_count": 84
  },
  {
   "metadata": {
    "ExecuteTime": {
     "end_time": "2025-03-01T08:38:38.350628Z",
     "start_time": "2025-03-01T08:38:38.336848Z"
    }
   },
   "cell_type": "code",
   "source": "np.divide(a,b)",
   "id": "880bb27b3f4486f0",
   "outputs": [
    {
     "data": {
      "text/plain": [
       "array([[0.        , 0.04761905, 0.09090909],\n",
       "       [0.13043478, 0.16666667, 0.2       ],\n",
       "       [0.23076923, 0.25925926, 0.28571429],\n",
       "       [0.31034483, 0.33333333, 0.35483871],\n",
       "       [0.375     , 0.39393939, 0.41176471],\n",
       "       [0.42857143, 0.44444444, 0.45945946]])"
      ]
     },
     "execution_count": 85,
     "metadata": {},
     "output_type": "execute_result"
    }
   ],
   "execution_count": 85
  },
  {
   "metadata": {
    "ExecuteTime": {
     "end_time": "2025-03-01T08:39:48.654514Z",
     "start_time": "2025-03-01T08:39:48.649178Z"
    }
   },
   "cell_type": "code",
   "source": [
    "print(a.shape)\n",
    "print(b.shape)"
   ],
   "id": "5f602a94a29c3dd6",
   "outputs": [
    {
     "name": "stdout",
     "output_type": "stream",
     "text": [
      "(6, 3)\n",
      "(6, 3)\n"
     ]
    }
   ],
   "execution_count": 87
  },
  {
   "metadata": {
    "ExecuteTime": {
     "end_time": "2025-03-01T08:40:22.425407Z",
     "start_time": "2025-03-01T08:40:22.414947Z"
    }
   },
   "cell_type": "code",
   "source": "b = b.reshape((3,6))",
   "id": "88949927a2c774df",
   "outputs": [],
   "execution_count": 89
  },
  {
   "metadata": {
    "ExecuteTime": {
     "end_time": "2025-03-01T08:40:24.963426Z",
     "start_time": "2025-03-01T08:40:24.955124Z"
    }
   },
   "cell_type": "code",
   "source": "a@b",
   "id": "ac40a36b50c8e378",
   "outputs": [
    {
     "data": {
      "text/plain": [
       "array([[  90,   93,   96,   99,  102,  105],\n",
       "       [ 324,  336,  348,  360,  372,  384],\n",
       "       [ 558,  579,  600,  621,  642,  663],\n",
       "       [ 792,  822,  852,  882,  912,  942],\n",
       "       [1026, 1065, 1104, 1143, 1182, 1221],\n",
       "       [1260, 1308, 1356, 1404, 1452, 1500]])"
      ]
     },
     "execution_count": 90,
     "metadata": {},
     "output_type": "execute_result"
    }
   ],
   "execution_count": 90
  },
  {
   "metadata": {
    "ExecuteTime": {
     "end_time": "2025-03-01T08:41:02.577432Z",
     "start_time": "2025-03-01T08:41:02.569430Z"
    }
   },
   "cell_type": "code",
   "source": "a.dot(b)",
   "id": "2e0409367f3686e0",
   "outputs": [
    {
     "data": {
      "text/plain": [
       "array([[  90,   93,   96,   99,  102,  105],\n",
       "       [ 324,  336,  348,  360,  372,  384],\n",
       "       [ 558,  579,  600,  621,  642,  663],\n",
       "       [ 792,  822,  852,  882,  912,  942],\n",
       "       [1026, 1065, 1104, 1143, 1182, 1221],\n",
       "       [1260, 1308, 1356, 1404, 1452, 1500]])"
      ]
     },
     "execution_count": 91,
     "metadata": {},
     "output_type": "execute_result"
    }
   ],
   "execution_count": 91
  },
  {
   "metadata": {
    "ExecuteTime": {
     "end_time": "2025-03-01T08:42:48.864055Z",
     "start_time": "2025-03-01T08:42:48.858228Z"
    }
   },
   "cell_type": "code",
   "source": "b.max()\n",
   "id": "bbeea62e7a5dfd3d",
   "outputs": [
    {
     "data": {
      "text/plain": [
       "np.int64(37)"
      ]
     },
     "execution_count": 96,
     "metadata": {},
     "output_type": "execute_result"
    }
   ],
   "execution_count": 96
  },
  {
   "metadata": {
    "ExecuteTime": {
     "end_time": "2025-03-01T08:41:44.529048Z",
     "start_time": "2025-03-01T08:41:44.520586Z"
    }
   },
   "cell_type": "code",
   "source": "b.min()",
   "id": "d96bebc878b596f",
   "outputs": [
    {
     "data": {
      "text/plain": [
       "np.int64(20)"
      ]
     },
     "execution_count": 94,
     "metadata": {},
     "output_type": "execute_result"
    }
   ],
   "execution_count": 94
  },
  {
   "metadata": {
    "ExecuteTime": {
     "end_time": "2025-03-01T08:42:00.218804Z",
     "start_time": "2025-03-01T08:42:00.210864Z"
    }
   },
   "cell_type": "code",
   "source": "b.argmax()",
   "id": "e8b0ef6c93748bbe",
   "outputs": [
    {
     "data": {
      "text/plain": [
       "np.int64(17)"
      ]
     },
     "execution_count": 95,
     "metadata": {},
     "output_type": "execute_result"
    }
   ],
   "execution_count": 95
  },
  {
   "metadata": {
    "ExecuteTime": {
     "end_time": "2025-03-01T08:43:57.610544Z",
     "start_time": "2025-03-01T08:43:57.600118Z"
    }
   },
   "cell_type": "code",
   "source": "np.sum(b)",
   "id": "c59950d2c6a4d842",
   "outputs": [
    {
     "data": {
      "text/plain": [
       "np.int64(513)"
      ]
     },
     "execution_count": 97,
     "metadata": {},
     "output_type": "execute_result"
    }
   ],
   "execution_count": 97
  },
  {
   "metadata": {
    "ExecuteTime": {
     "end_time": "2025-03-01T08:44:24.116685Z",
     "start_time": "2025-03-01T08:44:24.106851Z"
    }
   },
   "cell_type": "code",
   "source": "np.sum(b,axis = 1)",
   "id": "e5adbc640e54d30f",
   "outputs": [
    {
     "data": {
      "text/plain": [
       "array([135, 171, 207])"
      ]
     },
     "execution_count": 98,
     "metadata": {},
     "output_type": "execute_result"
    }
   ],
   "execution_count": 98
  },
  {
   "metadata": {
    "ExecuteTime": {
     "end_time": "2025-03-01T08:47:13.178151Z",
     "start_time": "2025-03-01T08:47:13.136386Z"
    }
   },
   "cell_type": "code",
   "source": "np.sum(b,axis = 0)",
   "id": "a21e4faa48b95a61",
   "outputs": [
    {
     "data": {
      "text/plain": [
       "array([78, 81, 84, 87, 90, 93])"
      ]
     },
     "execution_count": 99,
     "metadata": {},
     "output_type": "execute_result"
    }
   ],
   "execution_count": 99
  },
  {
   "metadata": {
    "ExecuteTime": {
     "end_time": "2025-03-01T08:48:25.337046Z",
     "start_time": "2025-03-01T08:48:25.327360Z"
    }
   },
   "cell_type": "code",
   "source": "np.mean(b)",
   "id": "4a2863327507ec10",
   "outputs": [
    {
     "data": {
      "text/plain": [
       "np.float64(28.5)"
      ]
     },
     "execution_count": 101,
     "metadata": {},
     "output_type": "execute_result"
    }
   ],
   "execution_count": 101
  },
  {
   "metadata": {
    "ExecuteTime": {
     "end_time": "2025-03-01T08:48:37.368025Z",
     "start_time": "2025-03-01T08:48:37.344974Z"
    }
   },
   "cell_type": "code",
   "source": "np.sqrt(b)",
   "id": "9f646fa9587af130",
   "outputs": [
    {
     "data": {
      "text/plain": [
       "array([[4.47213595, 4.58257569, 4.69041576, 4.79583152, 4.89897949,\n",
       "        5.        ],\n",
       "       [5.09901951, 5.19615242, 5.29150262, 5.38516481, 5.47722558,\n",
       "        5.56776436],\n",
       "       [5.65685425, 5.74456265, 5.83095189, 5.91607978, 6.        ,\n",
       "        6.08276253]])"
      ]
     },
     "execution_count": 102,
     "metadata": {},
     "output_type": "execute_result"
    }
   ],
   "execution_count": 102
  },
  {
   "metadata": {
    "ExecuteTime": {
     "end_time": "2025-03-01T08:48:57.916168Z",
     "start_time": "2025-03-01T08:48:57.888977Z"
    }
   },
   "cell_type": "code",
   "source": "np.std(b)",
   "id": "12e30fc5a569795d",
   "outputs": [
    {
     "data": {
      "text/plain": [
       "np.float64(5.188127472091127)"
      ]
     },
     "execution_count": 103,
     "metadata": {},
     "output_type": "execute_result"
    }
   ],
   "execution_count": 103
  },
  {
   "metadata": {
    "ExecuteTime": {
     "end_time": "2025-03-01T08:49:08.641543Z",
     "start_time": "2025-03-01T08:49:08.629511Z"
    }
   },
   "cell_type": "code",
   "source": "np.log(b)",
   "id": "ce605c209b711253",
   "outputs": [
    {
     "data": {
      "text/plain": [
       "array([[2.99573227, 3.04452244, 3.09104245, 3.13549422, 3.17805383,\n",
       "        3.21887582],\n",
       "       [3.25809654, 3.29583687, 3.33220451, 3.36729583, 3.40119738,\n",
       "        3.4339872 ],\n",
       "       [3.4657359 , 3.49650756, 3.52636052, 3.55534806, 3.58351894,\n",
       "        3.61091791]])"
      ]
     },
     "execution_count": 104,
     "metadata": {},
     "output_type": "execute_result"
    }
   ],
   "execution_count": 104
  },
  {
   "metadata": {},
   "cell_type": "code",
   "outputs": [],
   "execution_count": null,
   "source": "#***********part6***********",
   "id": "4a57d6e5a09a6ffd"
  },
  {
   "metadata": {
    "ExecuteTime": {
     "end_time": "2025-03-01T16:58:59.771986Z",
     "start_time": "2025-03-01T16:58:59.287819Z"
    }
   },
   "cell_type": "code",
   "source": [
    "import matplotlib.pyplot as plt\n",
    "plt.style.use('background')"
   ],
   "id": "34739a3676b1fbb2",
   "outputs": [
    {
     "ename": "ModuleNotFoundError",
     "evalue": "No module named 'matplotlib'",
     "output_type": "error",
     "traceback": [
      "\u001B[1;31m---------------------------------------------------------------------------\u001B[0m",
      "\u001B[1;31mModuleNotFoundError\u001B[0m                       Traceback (most recent call last)",
      "Cell \u001B[1;32mIn[1], line 1\u001B[0m\n\u001B[1;32m----> 1\u001B[0m \u001B[38;5;28;01mimport\u001B[39;00m \u001B[38;5;21;01mmatplotlib\u001B[39;00m\u001B[38;5;21;01m.\u001B[39;00m\u001B[38;5;21;01mpyplot\u001B[39;00m \u001B[38;5;28;01mas\u001B[39;00m \u001B[38;5;21;01mplt\u001B[39;00m\n\u001B[0;32m      2\u001B[0m plt\u001B[38;5;241m.\u001B[39mstyle\u001B[38;5;241m.\u001B[39muse(\u001B[38;5;124m'\u001B[39m\u001B[38;5;124mbackground\u001B[39m\u001B[38;5;124m'\u001B[39m)\n",
      "\u001B[1;31mModuleNotFoundError\u001B[0m: No module named 'matplotlib'"
     ]
    }
   ],
   "execution_count": 1
  },
  {
   "metadata": {
    "ExecuteTime": {
     "end_time": "2025-03-01T08:57:42.425053Z",
     "start_time": "2025-03-01T08:57:42.409397Z"
    }
   },
   "cell_type": "code",
   "source": "np.pi",
   "id": "8e7be7094142e5a9",
   "outputs": [
    {
     "data": {
      "text/plain": [
       "3.141592653589793"
      ]
     },
     "execution_count": 111,
     "metadata": {},
     "output_type": "execute_result"
    }
   ],
   "execution_count": 111
  },
  {
   "metadata": {
    "ExecuteTime": {
     "end_time": "2025-03-01T08:58:01.512760Z",
     "start_time": "2025-03-01T08:58:01.498550Z"
    }
   },
   "cell_type": "code",
   "source": "np.sin(np.pi/2)",
   "id": "945371a7506ff42a",
   "outputs": [
    {
     "data": {
      "text/plain": [
       "np.float64(1.0)"
      ]
     },
     "execution_count": 112,
     "metadata": {},
     "output_type": "execute_result"
    }
   ],
   "execution_count": 112
  },
  {
   "metadata": {
    "ExecuteTime": {
     "end_time": "2025-03-01T08:58:27.490849Z",
     "start_time": "2025-03-01T08:58:27.482847Z"
    }
   },
   "cell_type": "code",
   "source": "np.sin(np.pi/6)",
   "id": "c1ca366e7b493b2c",
   "outputs": [
    {
     "data": {
      "text/plain": [
       "np.float64(0.49999999999999994)"
      ]
     },
     "execution_count": 113,
     "metadata": {},
     "output_type": "execute_result"
    }
   ],
   "execution_count": 113
  },
  {
   "metadata": {
    "ExecuteTime": {
     "end_time": "2025-03-01T08:58:46.347663Z",
     "start_time": "2025-03-01T08:58:46.331067Z"
    }
   },
   "cell_type": "code",
   "source": "np.cos(np.pi/2)",
   "id": "8e7adfdec74aa324",
   "outputs": [
    {
     "data": {
      "text/plain": [
       "np.float64(6.123233995736766e-17)"
      ]
     },
     "execution_count": 114,
     "metadata": {},
     "output_type": "execute_result"
    }
   ],
   "execution_count": 114
  },
  {
   "metadata": {
    "ExecuteTime": {
     "end_time": "2025-03-01T08:58:55.678040Z",
     "start_time": "2025-03-01T08:58:55.671090Z"
    }
   },
   "cell_type": "code",
   "source": "np.cos(np.pi/6)",
   "id": "652025c2e7542edb",
   "outputs": [
    {
     "data": {
      "text/plain": [
       "np.float64(0.8660254037844387)"
      ]
     },
     "execution_count": 115,
     "metadata": {},
     "output_type": "execute_result"
    }
   ],
   "execution_count": 115
  },
  {
   "metadata": {
    "ExecuteTime": {
     "end_time": "2025-03-01T08:59:24.860407Z",
     "start_time": "2025-03-01T08:59:24.850601Z"
    }
   },
   "cell_type": "code",
   "source": "np.tan(np.pi/2)",
   "id": "d4717f2e1db08e76",
   "outputs": [
    {
     "data": {
      "text/plain": [
       "np.float64(1.633123935319537e+16)"
      ]
     },
     "execution_count": 116,
     "metadata": {},
     "output_type": "execute_result"
    }
   ],
   "execution_count": 116
  },
  {
   "metadata": {
    "ExecuteTime": {
     "end_time": "2025-03-01T08:59:41.267953Z",
     "start_time": "2025-03-01T08:59:41.227335Z"
    }
   },
   "cell_type": "code",
   "source": "np.tan(0)",
   "id": "488c0e0895112d64",
   "outputs": [
    {
     "data": {
      "text/plain": [
       "np.float64(0.0)"
      ]
     },
     "execution_count": 117,
     "metadata": {},
     "output_type": "execute_result"
    }
   ],
   "execution_count": 117
  },
  {
   "metadata": {},
   "cell_type": "code",
   "outputs": [],
   "execution_count": null,
   "source": "#***********part7************",
   "id": "6f4dd5ed334003ed"
  },
  {
   "metadata": {
    "ExecuteTime": {
     "end_time": "2025-03-01T12:43:17.751735Z",
     "start_time": "2025-03-01T12:43:17.743836Z"
    }
   },
   "cell_type": "code",
   "source": "np.random.random(1)",
   "id": "a322b44063dd02e6",
   "outputs": [
    {
     "data": {
      "text/plain": [
       "array([0.32437157])"
      ]
     },
     "execution_count": 120,
     "metadata": {},
     "output_type": "execute_result"
    }
   ],
   "execution_count": 120
  },
  {
   "metadata": {
    "ExecuteTime": {
     "end_time": "2025-03-01T12:43:33.271165Z",
     "start_time": "2025-03-01T12:43:33.261198Z"
    }
   },
   "cell_type": "code",
   "source": "np.random.random(2)",
   "id": "45d4234e655da3d7",
   "outputs": [
    {
     "data": {
      "text/plain": [
       "array([0.54239603, 0.08950637])"
      ]
     },
     "execution_count": 122,
     "metadata": {},
     "output_type": "execute_result"
    }
   ],
   "execution_count": 122
  },
  {
   "metadata": {
    "ExecuteTime": {
     "end_time": "2025-03-01T12:43:59.282967Z",
     "start_time": "2025-03-01T12:43:59.270670Z"
    }
   },
   "cell_type": "code",
   "source": "np.random.random((2,2))",
   "id": "60642be9a7713adb",
   "outputs": [
    {
     "data": {
      "text/plain": [
       "array([[0.54284961, 0.86936158],\n",
       "       [0.867853  , 0.10908612]])"
      ]
     },
     "execution_count": 123,
     "metadata": {},
     "output_type": "execute_result"
    }
   ],
   "execution_count": 123
  },
  {
   "metadata": {
    "ExecuteTime": {
     "end_time": "2025-03-01T12:45:09.788533Z",
     "start_time": "2025-03-01T12:45:09.771612Z"
    }
   },
   "cell_type": "code",
   "source": "np.random.randint((1,10))",
   "id": "6849bd994463b55f",
   "outputs": [
    {
     "data": {
      "text/plain": [
       "array([0, 5], dtype=int32)"
      ]
     },
     "execution_count": 126,
     "metadata": {},
     "output_type": "execute_result"
    }
   ],
   "execution_count": 126
  },
  {
   "metadata": {
    "ExecuteTime": {
     "end_time": "2025-03-01T12:45:37.241137Z",
     "start_time": "2025-03-01T12:45:37.230917Z"
    }
   },
   "cell_type": "code",
   "source": "np.random.randint(1,10,(2,2))",
   "id": "30603c92b0ce0dc2",
   "outputs": [
    {
     "data": {
      "text/plain": [
       "array([[1, 4],\n",
       "       [5, 3]], dtype=int32)"
      ]
     },
     "execution_count": 128,
     "metadata": {},
     "output_type": "execute_result"
    }
   ],
   "execution_count": 128
  },
  {
   "metadata": {
    "ExecuteTime": {
     "end_time": "2025-03-01T12:46:43.798320Z",
     "start_time": "2025-03-01T12:46:43.786628Z"
    }
   },
   "cell_type": "code",
   "source": "np.random.randint(1,10,(3,4,5))",
   "id": "6eb5e534993422a5",
   "outputs": [
    {
     "data": {
      "text/plain": [
       "array([[[9, 1, 6, 3, 3],\n",
       "        [1, 8, 4, 7, 6],\n",
       "        [9, 2, 7, 8, 4],\n",
       "        [1, 6, 4, 9, 7]],\n",
       "\n",
       "       [[6, 9, 2, 9, 4],\n",
       "        [8, 8, 3, 4, 9],\n",
       "        [8, 5, 8, 6, 4],\n",
       "        [6, 3, 6, 9, 1]],\n",
       "\n",
       "       [[4, 8, 2, 9, 6],\n",
       "        [1, 4, 5, 1, 3],\n",
       "        [7, 3, 2, 9, 9],\n",
       "        [8, 6, 2, 3, 3]]], dtype=int32)"
      ]
     },
     "execution_count": 130,
     "metadata": {},
     "output_type": "execute_result"
    }
   ],
   "execution_count": 130
  },
  {
   "metadata": {
    "ExecuteTime": {
     "end_time": "2025-03-01T12:47:33.687270Z",
     "start_time": "2025-03-01T12:47:33.681026Z"
    }
   },
   "cell_type": "code",
   "source": "np.random.rand(2,2)",
   "id": "da14a38c9f1b7964",
   "outputs": [
    {
     "data": {
      "text/plain": [
       "array([[0.26676158, 0.10096998],\n",
       "       [0.03733013, 0.01097626]])"
      ]
     },
     "execution_count": 132,
     "metadata": {},
     "output_type": "execute_result"
    }
   ],
   "execution_count": 132
  },
  {
   "metadata": {
    "ExecuteTime": {
     "end_time": "2025-03-01T12:47:54.573895Z",
     "start_time": "2025-03-01T12:47:54.553428Z"
    }
   },
   "cell_type": "code",
   "source": "np.random.randn(2,2)",
   "id": "d015ce9cc9576af4",
   "outputs": [
    {
     "data": {
      "text/plain": [
       "array([[-0.19153654, -1.08805696],\n",
       "       [ 1.19476221, -1.27199809]])"
      ]
     },
     "execution_count": 133,
     "metadata": {},
     "output_type": "execute_result"
    }
   ],
   "execution_count": 133
  },
  {
   "metadata": {
    "ExecuteTime": {
     "end_time": "2025-03-01T12:48:18.109187Z",
     "start_time": "2025-03-01T12:48:18.098399Z"
    }
   },
   "cell_type": "code",
   "source": [
    "a = np.arange(1,10)\n",
    "print(a)"
   ],
   "id": "881d659865790536",
   "outputs": [
    {
     "name": "stdout",
     "output_type": "stream",
     "text": [
      "[1 2 3 4 5 6 7 8 9]\n"
     ]
    }
   ],
   "execution_count": 134
  },
  {
   "metadata": {
    "ExecuteTime": {
     "end_time": "2025-03-01T12:48:49.101032Z",
     "start_time": "2025-03-01T12:48:49.089549Z"
    }
   },
   "cell_type": "code",
   "source": "np.random.choice(a)",
   "id": "eca885fef804c414",
   "outputs": [
    {
     "data": {
      "text/plain": [
       "np.int64(4)"
      ]
     },
     "execution_count": 136,
     "metadata": {},
     "output_type": "execute_result"
    }
   ],
   "execution_count": 136
  },
  {
   "metadata": {},
   "cell_type": "code",
   "outputs": [],
   "execution_count": null,
   "source": "#********part8*******",
   "id": "ad95cacd2f0e63bc"
  },
  {
   "metadata": {
    "ExecuteTime": {
     "end_time": "2025-03-01T12:49:56.196443Z",
     "start_time": "2025-03-01T12:49:56.179922Z"
    }
   },
   "cell_type": "code",
   "source": [
    "s1 = 'isha is my name'\n",
    "s2 = 'i am AN indian'"
   ],
   "id": "b1c932109522f766",
   "outputs": [],
   "execution_count": 137
  },
  {
   "metadata": {
    "ExecuteTime": {
     "end_time": "2025-03-01T12:51:37.127885Z",
     "start_time": "2025-03-01T12:51:37.116554Z"
    }
   },
   "cell_type": "code",
   "source": "np.char.lower(s2)",
   "id": "cceb3bc82d7c8aef",
   "outputs": [
    {
     "data": {
      "text/plain": [
       "array('i am an indian', dtype='<U14')"
      ]
     },
     "execution_count": 142,
     "metadata": {},
     "output_type": "execute_result"
    }
   ],
   "execution_count": 142
  },
  {
   "metadata": {
    "ExecuteTime": {
     "end_time": "2025-03-01T12:50:07.733440Z",
     "start_time": "2025-03-01T12:50:07.531555Z"
    }
   },
   "cell_type": "code",
   "source": "np.char.add(s1, s2)",
   "id": "bd140c07cf73965d",
   "outputs": [
    {
     "data": {
      "text/plain": [
       "np.str_('isha is my namei am an indian')"
      ]
     },
     "execution_count": 138,
     "metadata": {},
     "output_type": "execute_result"
    }
   ],
   "execution_count": 138
  },
  {
   "metadata": {
    "ExecuteTime": {
     "end_time": "2025-03-01T12:50:47.164117Z",
     "start_time": "2025-03-01T12:50:47.150406Z"
    }
   },
   "cell_type": "code",
   "source": "np.char.upper(s1)",
   "id": "71df3aa7d9660a8f",
   "outputs": [
    {
     "data": {
      "text/plain": [
       "array('ISHA IS MY NAME', dtype='<U15')"
      ]
     },
     "execution_count": 140,
     "metadata": {},
     "output_type": "execute_result"
    }
   ],
   "execution_count": 140
  },
  {
   "metadata": {
    "ExecuteTime": {
     "end_time": "2025-03-01T12:52:00.095634Z",
     "start_time": "2025-03-01T12:52:00.082841Z"
    }
   },
   "cell_type": "code",
   "source": "np.char.split(s1)",
   "id": "5ca45b91e521de20",
   "outputs": [
    {
     "data": {
      "text/plain": [
       "array(list(['isha', 'is', 'my', 'name']), dtype=object)"
      ]
     },
     "execution_count": 143,
     "metadata": {},
     "output_type": "execute_result"
    }
   ],
   "execution_count": 143
  },
  {
   "metadata": {
    "ExecuteTime": {
     "end_time": "2025-03-01T12:52:43.690182Z",
     "start_time": "2025-03-01T12:52:43.677631Z"
    }
   },
   "cell_type": "code",
   "source": [
    "s3 = 'isha is my\\nname'\n",
    "np.char.splitlines(s3)"
   ],
   "id": "507af5e011b66eaa",
   "outputs": [
    {
     "data": {
      "text/plain": [
       "array(list(['isha is my', 'name']), dtype=object)"
      ]
     },
     "execution_count": 144,
     "metadata": {},
     "output_type": "execute_result"
    }
   ],
   "execution_count": 144
  },
  {
   "metadata": {},
   "cell_type": "code",
   "outputs": [],
   "execution_count": null,
   "source": "",
   "id": "4e186a4384ecefe2"
  },
  {
   "metadata": {
    "ExecuteTime": {
     "end_time": "2025-03-01T12:53:33.849173Z",
     "start_time": "2025-03-01T12:53:33.823014Z"
    }
   },
   "cell_type": "code",
   "source": "np.char.replace(s1,'name','sirname')",
   "id": "9350f02289d1ad6f",
   "outputs": [
    {
     "data": {
      "text/plain": [
       "array('isha is my sirname', dtype='<U18')"
      ]
     },
     "execution_count": 145,
     "metadata": {},
     "output_type": "execute_result"
    }
   ],
   "execution_count": 145
  },
  {
   "metadata": {
    "ExecuteTime": {
     "end_time": "2025-03-01T12:54:18.640831Z",
     "start_time": "2025-03-01T12:54:18.630109Z"
    }
   },
   "cell_type": "code",
   "source": "print('*******good bye******')",
   "id": "edbed6eb510076b3",
   "outputs": [
    {
     "name": "stdout",
     "output_type": "stream",
     "text": [
      "*******good bye******\n"
     ]
    }
   ],
   "execution_count": 146
  },
  {
   "metadata": {
    "ExecuteTime": {
     "end_time": "2025-03-01T12:55:39.984485Z",
     "start_time": "2025-03-01T12:55:39.974964Z"
    }
   },
   "cell_type": "code",
   "source": "print(np.char.center('good bye' , 18 , '*'))",
   "id": "3856c229f3478472",
   "outputs": [
    {
     "name": "stdout",
     "output_type": "stream",
     "text": [
      "*****good bye*****\n"
     ]
    }
   ],
   "execution_count": 152
  }
 ],
 "metadata": {
  "kernelspec": {
   "display_name": "Python 3",
   "language": "python",
   "name": "python3"
  },
  "language_info": {
   "codemirror_mode": {
    "name": "ipython",
    "version": 2
   },
   "file_extension": ".py",
   "mimetype": "text/x-python",
   "name": "python",
   "nbconvert_exporter": "python",
   "pygments_lexer": "ipython2",
   "version": "2.7.6"
  }
 },
 "nbformat": 4,
 "nbformat_minor": 5
}
