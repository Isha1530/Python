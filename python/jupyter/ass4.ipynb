{
 "cells": [
  {
   "cell_type": "code",
   "execution_count": 1,
   "metadata": {},
   "outputs": [
    {
     "name": "stdout",
     "output_type": "stream",
     "text": [
      "Name: Alice, Age: 20\n",
      "Student ID: [85, 90, 78]\n",
      "Deposited 500. New balance: 1500\n",
      "Withdrew 300. New balance: 1200\n",
      "Account Number: 123456, Balance: 1200, Account Type: Savings\n",
      "Name: John, Age: 40\n",
      "Name: Bob, Age: 22\n",
      "Student ID: S12345\n"
     ]
    }
   ],
   "source": [
    "class Student:\n",
    "    def __init__(self, name, age, grades):\n",
    "        self.name = name\n",
    "        self.age = age\n",
    "        self.grades = grades  # List of grades\n",
    "\n",
    "    def calculate_average(self):\n",
    "        return sum(self.grades) / len(self.grades) if self.grades else 0\n",
    "\n",
    "    def display_info(self):\n",
    "        print(f\"Name: {self.name}, Age: {self.age}, Average Grade: {self.calculate_average():.2f}\")\n",
    "\n",
    "\n",
    "class BankAccount:\n",
    "    def __init__(self, account_number, balance, account_type):\n",
    "        self.account_number = account_number\n",
    "        self.balance = balance\n",
    "        self.account_type = account_type\n",
    "\n",
    "    def deposit(self, amount):\n",
    "        if amount > 0:\n",
    "            self.balance += amount\n",
    "            print(f\"Deposited {amount}. New balance: {self.balance}\")\n",
    "        else:\n",
    "            print(\"Deposit amount must be positive.\")\n",
    "\n",
    "    def withdraw(self, amount):\n",
    "        if 0 < amount <= self.balance:\n",
    "            self.balance -= amount\n",
    "            print(f\"Withdrew {amount}. New balance: {self.balance}\")\n",
    "        else:\n",
    "            print(\"Invalid withdrawal amount.\")\n",
    "\n",
    "    def display_info(self):\n",
    "        print(f\"Account Number: {self.account_number}, Balance: {self.balance}, Account Type: {self.account_type}\")\n",
    "\n",
    "\n",
    "class Person:\n",
    "    def __init__(self, name, age):\n",
    "        self.name = name\n",
    "        self.age = age\n",
    "\n",
    "    def display_info(self):\n",
    "        print(f\"Name: {self.name}, Age: {self.age}\")\n",
    "\n",
    "\n",
    "class Student(Person):\n",
    "    def __init__(self, name, age, student_id):\n",
    "        super().__init__(name, age)\n",
    "        self.student_id = student_id\n",
    "\n",
    "    def display_info(self):\n",
    "        super().display_info()\n",
    "        print(f\"Student ID: {self.student_id}\")\n",
    "\n",
    "\n",
    "# Example usage:\n",
    "student = Student(\"Alice\", 20, [85, 90, 78])\n",
    "student.display_info()\n",
    "\n",
    "account = BankAccount(\"123456\", 1000, \"Savings\")\n",
    "account.deposit(500)\n",
    "account.withdraw(300)\n",
    "account.display_info()\n",
    "\n",
    "person = Person(\"John\", 40)\n",
    "person.display_info()\n",
    "\n",
    "student_person = Student(\"Bob\", 22, \"S12345\")\n",
    "student_person.display_info()"
   ]
  }
 ],
 "metadata": {
  "kernelspec": {
   "display_name": "Python 3",
   "language": "python",
   "name": "python3"
  },
  "language_info": {
   "codemirror_mode": {
    "name": "ipython",
    "version": 3
   },
   "file_extension": ".py",
   "mimetype": "text/x-python",
   "name": "python",
   "nbconvert_exporter": "python",
   "pygments_lexer": "ipython3",
   "version": "3.13.2"
  }
 },
 "nbformat": 4,
 "nbformat_minor": 2
}
